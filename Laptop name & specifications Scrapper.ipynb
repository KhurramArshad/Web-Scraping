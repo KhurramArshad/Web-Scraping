{
 "cells": [
  {
   "cell_type": "markdown",
   "metadata": {},
   "source": [
    "# Laptop Specification and Price Scrapper (Using BeautifulSoup ) "
   ]
  },
  {
   "cell_type": "markdown",
   "metadata": {},
   "source": [
    "## Importing Libraries"
   ]
  },
  {
   "cell_type": "code",
   "execution_count": 16,
   "metadata": {},
   "outputs": [],
   "source": [
    "from bs4 import BeautifulSoup\n",
    "import requests"
   ]
  },
  {
   "cell_type": "markdown",
   "metadata": {},
   "source": [
    "## Assigning required path of website"
   ]
  },
  {
   "cell_type": "code",
   "execution_count": 17,
   "metadata": {},
   "outputs": [],
   "source": [
    "URL = \"https://www.flipkart.com/laptops/~cs-wp99dtavs5/pr?sid=6bo%2Cb5g&collection-tab-name=intel%20thin%20and%20light&otracker=clp_banner_1_3.bannerX3.BANNER_laptops-store_FNN2PK6TB2ZW&fm=neo%2Fmerchandising&iid=M_20f0cd6f-13d8-4051-9e19-b54359d60efe_3.FNN2PK6TB2ZW&ppt=clp&ppn=laptops-store&ssid=cpf9g89xzzggt5a81603261188135\""
   ]
  },
  {
   "cell_type": "markdown",
   "metadata": {},
   "source": [
    "## Hitting the page URL and getting RawHtml"
   ]
  },
  {
   "cell_type": "code",
   "execution_count": 18,
   "metadata": {},
   "outputs": [],
   "source": [
    "data = requests.get(URL)\n",
    "soup = BeautifulSoup(data.content, 'html.parser')"
   ]
  },
  {
   "cell_type": "markdown",
   "metadata": {},
   "source": [
    "## Getting all the required data from relevent class"
   ]
  },
  {
   "cell_type": "code",
   "execution_count": 20,
   "metadata": {},
   "outputs": [],
   "source": [
    "data = soup.find_all('div', {'class': 'col col-7-12'})"
   ]
  },
  {
   "cell_type": "markdown",
   "metadata": {},
   "source": [
    "## Extacting Laptop names and Specifications"
   ]
  },
  {
   "cell_type": "code",
   "execution_count": 22,
   "metadata": {},
   "outputs": [],
   "source": [
    "NameAndSpecs_list = []\n",
    "for data in data:\n",
    "    req_data = data.find_all('div', {'class': '_3wU53n'})\n",
    "    req_data=[e.get_text() for e in req_data]\n",
    "    NameAndSpecs_list.append(req_data)"
   ]
  },
  {
   "cell_type": "code",
   "execution_count": 23,
   "metadata": {},
   "outputs": [
    {
     "name": "stdout",
     "output_type": "stream",
     "text": [
      "[['Apple MacBook Air Core i5 5th Gen - (8 GB/128 GB SSD/Mac OS Sierra) MQD32HN/A A1466'], ['HP 15s Core i5 10th Gen - (8 GB/1 TB HDD/Windows 10 Home) 15s-DU1034TU Thin and Light Laptop'], ['Apple MacBook Pro with Touch Bar Core i5 8th Gen - (8 GB/256 GB SSD/Mac OS Catalina) MXK32HN/A'], ['Dell Inspiron Core i5 10th Gen - (8 GB/512 GB SSD/Windows 10 Home) Inspiron 5408 Thin and Light Laptop'], ['HP 15s Core i5 10th Gen - (4 GB + 32 GB Optane/512 GB SSD/Windows 10 Home) 15s-du1065TU Thin and Light...'], ['Dell Inspiron Core i5 10th Gen - (8 GB/512 GB SSD/Windows 10 Home/2 GB Graphics) Inspiron 5501 Thin an...'], ['Lenovo Ideapad S145 Core i5 10th Gen - (8 GB/1 TB HDD/Windows 10 Home) 81W8 idea pad S145 -15IIL U Lap...'], ['Dell Inspiron 7000 Core i5 10th Gen - (8 GB/512 GB SSD/Windows 10 Home/2 GB Graphics) 7490 Thin and Li...'], ['Lenovo Ideapad S145 Core i5 10th Gen - (8 GB/1 TB HDD/Windows 10 Home) S145-15IIL Laptop'], ['Dell Inspiron Core i5 10th Gen - (8 GB/512 GB SSD/Windows 10 Home) Inspiron 7490 Thin and Light Laptop'], ['Dell Inspiron Core i5 10th Gen - (8 GB/512 GB SSD/Windows 10 Home/2 GB Graphics) INS 5408 Thin and Lig...'], ['Dell Inspiron Core i7 10th Gen - (8 GB/512 GB SSD/Windows 10 Home/2 GB Graphics) Inspiron 5501 Thin an...'], ['Dell Inspiron Core i5 10th Gen - (8 GB/512 GB SSD/Windows 10 Home) Inspiron 5300 Thin and Light Laptop'], ['Dell XPS Core i5 10th Gen - (8 GB/512 GB SSD/Windows 10 Home) XPS 9300 Thin and Light Laptop'], ['Dell Inspiron 5000 Core i3 10th Gen - (4 GB/256 GB SSD/Windows 10 Home) 5491 2 in 1 Laptop'], ['Dell Vostro Core i5 10th Gen - (8 GB/1 TB HDD/256 GB SSD/Windows 10 Home) Vostro 3491 Thin and Light L...'], ['Asus VivoBook 14 Core i5 10th Gen - (8 GB/1 TB HDD/256 GB SSD/Windows 10 Home) X412FA-EK511T Thin and ...']]\n"
     ]
    }
   ],
   "source": [
    "print(NameAndSpecs_list)"
   ]
  },
  {
   "cell_type": "code",
   "execution_count": null,
   "metadata": {},
   "outputs": [],
   "source": []
  }
 ],
 "metadata": {
  "kernelspec": {
   "display_name": "Python 3",
   "language": "python",
   "name": "python3"
  },
  "language_info": {
   "codemirror_mode": {
    "name": "ipython",
    "version": 3
   },
   "file_extension": ".py",
   "mimetype": "text/x-python",
   "name": "python",
   "nbconvert_exporter": "python",
   "pygments_lexer": "ipython3",
   "version": "3.7.4"
  }
 },
 "nbformat": 4,
 "nbformat_minor": 2
}
